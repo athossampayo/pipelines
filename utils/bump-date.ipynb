{
 "cells": [
  {
   "cell_type": "markdown",
   "id": "bba9cc00-e8dd-4735-9577-8145d558a730",
   "metadata": {},
   "source": [
    "## Change a field on both CKAN and GitHub"
   ]
  },
  {
   "cell_type": "code",
   "execution_count": null,
   "id": "9ccc96e0-1185-47e7-8789-b57da6ebb7b6",
   "metadata": {},
   "outputs": [],
   "source": [
    "import base64\n",
    "import hashlib\n",
    "import json\n",
    "from datetime import datetime\n",
    "\n",
    "import ckanapi\n",
    "import requests\n",
    "import yaml"
   ]
  },
  {
   "cell_type": "markdown",
   "id": "3bdc2d31-24cb-48b5-a135-b36c086fe981",
   "metadata": {},
   "source": [
    "### Change field on CKAN"
   ]
  },
  {
   "cell_type": "code",
   "execution_count": null,
   "id": "ef32ef2f-1f75-478f-aba3-e930da1ab596",
   "metadata": {},
   "outputs": [],
   "source": [
    "# TODO: Refactor API Key location\n",
    "api_url = 'https://basedosdados.org/'\n",
    "api_key = ''"
   ]
  },
  {
   "cell_type": "code",
   "execution_count": null,
   "id": "92dd6ef1-646a-4d72-9802-04f453292369",
   "metadata": {},
   "outputs": [],
   "source": [
    "# TODO: Refactor RemoteCKAN scope\n",
    "ckan = RemoteCKAN(api_url, api_key)"
   ]
  },
  {
   "cell_type": "code",
   "execution_count": null,
   "id": "9218d0a1-cc42-4c7f-95df-d508434eb4b1",
   "metadata": {},
   "outputs": [],
   "source": [
    "def get_ckan_table(dataset_id: str, table_id: str) -> dict:\n",
    "    dataset = ckan.action.package_show(id=dataset_id)\n",
    "    table = filter(lambda r: r['name'] == table_id, dataset['resources'])\n",
    "    table = list(table)[0]\n",
    "    \n",
    "    return table\n",
    "\n",
    "table = get_ckan_table('br-ana-reservatorios', 'sin')"
   ]
  },
  {
   "cell_type": "code",
   "execution_count": null,
   "id": "f3aaa1e4-9098-4e9c-99a1-703af4dc0f49",
   "metadata": {},
   "outputs": [],
   "source": [
    "def update_time(table: dict) -> dict:\n",
    "    '''Update table_config.yaml last updated time'''\n",
    "    if not table.get('last_updated'):\n",
    "        table['last_updated'] = {\n",
    "            'data': None,\n",
    "            'metadata': None,\n",
    "            'release': None,\n",
    "        }\n",
    "    elif not table['last_updated'].get('data'):\n",
    "        table['last_updated']['data'] = None\n",
    "    elif not table['last_updated'].get('metadata'):\n",
    "        table['last_updated']['metadata'] = None\n",
    "    elif not table['last_updated'].get('release'):\n",
    "        table['last_updated']['release'] = None\n",
    "    \n",
    "    # TODO: Validate the datetime format\n",
    "    table['last_updated']['data'] = str(datetime.now())\n",
    "    \n",
    "    return table\n",
    "\n",
    "table_mod = update_time(table)"
   ]
  },
  {
   "cell_type": "code",
   "execution_count": null,
   "id": "340c5ba7-5c0b-462a-b91f-f3def695b32b",
   "metadata": {},
   "outputs": [],
   "source": [
    "# TODO: Test this function in a local or staging environment\n",
    "def set_ckan_table(dataset_id: str, table_id: str, table: dict) -> bool:\n",
    "    response = ckan.action.resource_update(**table)\n",
    "    return response['success']\n",
    "\n",
    "set_ckan_table('br-ana-reservatorios', 'sin', table_mod)"
   ]
  },
  {
   "cell_type": "markdown",
   "id": "fbbfd93e-7266-4a2a-afd1-2815706ad0a6",
   "metadata": {},
   "source": [
    "### Change field on GitHub"
   ]
  },
  {
   "cell_type": "code",
   "execution_count": null,
   "id": "6a99b951-3073-4ab6-81e6-51f97733e2a6",
   "metadata": {},
   "outputs": [],
   "source": [
    "# TODO: Refactor the authorization header"
   ]
  },
  {
   "cell_type": "code",
   "execution_count": null,
   "id": "1cf0a083-2648-45e7-97bd-a26cfe6dbdb0",
   "metadata": {},
   "outputs": [],
   "source": [
    "access_token = 'fake_token'\n",
    "\n",
    "headers = {\n",
    "    'Accept': 'application/vnd.github.v3+json',\n",
    "    'Authorization': f'token {access_token}',\n",
    "}"
   ]
  },
  {
   "cell_type": "code",
   "execution_count": null,
   "id": "8e074ed1-bd2e-45a0-be8a-646899bdf185",
   "metadata": {},
   "outputs": [],
   "source": [
    "def get_github_table(database: str, table: str) -> [str, dict]:\n",
    "    '''Get basedosdados table_config.yaml with dict type'''\n",
    "    url = 'https://api.github.com/repos/basedosdados/mais'\n",
    "    url += f'/contents/bases/{database}/{table}/table_config.yaml'\n",
    "    \n",
    "    response = requests.get(url, headers=headers).json()\n",
    "    \n",
    "    sha = response['sha']\n",
    "    \n",
    "    result = base64.b64decode(response['content'])\n",
    "    result = result.decode('utf-8')\n",
    "    result = yaml.safe_load(result)\n",
    "    \n",
    "    return sha, result\n",
    "\n",
    "sha, table = get_github_table('br_ana_reservatorios', 'sin')"
   ]
  },
  {
   "cell_type": "code",
   "execution_count": null,
   "id": "fd477f03-af4c-444c-93b3-c7128d18b543",
   "metadata": {},
   "outputs": [],
   "source": [
    "def update_time(table: dict) -> dict:\n",
    "    '''Update table_config.yaml last updated time'''\n",
    "    if not table.get('last_updated'):\n",
    "        table['last_updated'] = {\n",
    "            'data': None,\n",
    "            'metadata': None,\n",
    "            'release': None,\n",
    "        }\n",
    "    elif not table['last_updated'].get('data'):\n",
    "        table['last_updated']['data'] = None\n",
    "    elif not table['last_updated'].get('metadata'):\n",
    "        table['last_updated']['metadata'] = None\n",
    "    elif not table['last_updated'].get('release'):\n",
    "        table['last_updated']['release'] = None\n",
    "    \n",
    "    # TODO: Validate the datetime format\n",
    "    table['last_updated']['data'] = str(datetime.now())\n",
    "    \n",
    "    return table\n",
    "\n",
    "table_mod = update_time(table)"
   ]
  },
  {
   "cell_type": "code",
   "execution_count": null,
   "id": "b45207b2-4ea2-4a9a-94a1-a83d9049fcc3",
   "metadata": {},
   "outputs": [],
   "source": [
    "# TODO: Bypass 'At least 1 approving review is required by reviewers with write access'\n",
    "# TODO: Format table_config.yaml. Maybe use regex?"
   ]
  },
  {
   "cell_type": "code",
   "execution_count": null,
   "id": "e46a5676-9de2-44dd-b7c7-23ccbdc47cab",
   "metadata": {},
   "outputs": [],
   "source": [
    "def set_github_table(database: str, table: str, sha: str, content: dict) -> bool:\n",
    "    '''Set basedosdados table_config.yaml'''\n",
    "    url = 'https://api.github.com/repos/basedosdados/mais'\n",
    "    url += f'/contents/bases/{database}/{table}/table_config.yaml'\n",
    "    \n",
    "    message = f'feat: prefect update table {database}.{table}'\n",
    "    \n",
    "    content = yaml.safe_dump(content)\n",
    "    content = content.encode('utf-8')\n",
    "    content = base64.b64encode(content)\n",
    "    content = content.decode('utf-8')\n",
    "    \n",
    "    data = dict(message=message, content=content, sha=sha)\n",
    "    data = json.dumps(data)\n",
    "    \n",
    "    response = requests.put(url, headers=headers, data=data).json()\n",
    "\n",
    "    return response\n",
    "\n",
    "k = set_github_table('br_ana_reservatorios', 'sin', sha, table_mod)"
   ]
  },
  {
   "cell_type": "code",
   "execution_count": null,
   "id": "03b65b7d-985e-445c-b065-16bebe794ae7",
   "metadata": {},
   "outputs": [],
   "source": []
  }
 ],
 "metadata": {
  "kernelspec": {
   "display_name": "Python 3 (ipykernel)",
   "language": "python",
   "name": "python3"
  },
  "language_info": {
   "codemirror_mode": {
    "name": "ipython",
    "version": 3
   },
   "file_extension": ".py",
   "mimetype": "text/x-python",
   "name": "python",
   "nbconvert_exporter": "python",
   "pygments_lexer": "ipython3",
   "version": "3.9.10"
  }
 },
 "nbformat": 4,
 "nbformat_minor": 5
}
